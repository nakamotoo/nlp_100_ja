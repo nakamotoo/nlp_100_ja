{
 "cells": [
  {
   "cell_type": "code",
   "execution_count": 2,
   "metadata": {},
   "outputs": [
    {
     "name": "stdout",
     "output_type": "stream",
     "text": [
      "desserts\n"
     ]
    }
   ],
   "source": [
    "# 00. 文字列の逆順\n",
    "\n",
    "s = \"stressed\"\n",
    "print(s[::-1])"
   ]
  },
  {
   "cell_type": "code",
   "execution_count": 4,
   "metadata": {},
   "outputs": [
    {
     "name": "stdout",
     "output_type": "stream",
     "text": [
      "パトカー\n"
     ]
    }
   ],
   "source": [
    "#01. 「パタトクカシーー」\n",
    "\n",
    "s = \"パタトクカシーー\"\n",
    "print(s[0:7:2])"
   ]
  },
  {
   "cell_type": "code",
   "execution_count": 17,
   "metadata": {},
   "outputs": [
    {
     "name": "stdout",
     "output_type": "stream",
     "text": [
      "パタトクカシーー\n"
     ]
    }
   ],
   "source": [
    "#02. 「パトカー」＋「タクシー」＝「パタトクカシーー」\n",
    "\n",
    "s1 = \"パトカー\"\n",
    "s2 = \"タクシー\"\n",
    "\n",
    "print(\"\".join([i+j for i, j in zip(s1, s2)]))"
   ]
  },
  {
   "cell_type": "code",
   "execution_count": 23,
   "metadata": {},
   "outputs": [
    {
     "name": "stdout",
     "output_type": "stream",
     "text": [
      "[3, 1, 4, 1, 5, 9, 2, 6, 5, 3, 5, 8, 9, 7, 9]\n"
     ]
    }
   ],
   "source": [
    "# 03. 円周率\n",
    "\n",
    "s = \"Now I need a drink, alcoholic of course, after the heavy lectures involving quantum mechanics.\"\n",
    "words = s.replace(\",\", \"\").replace(\".\", \"\").split()\n",
    "print([len(i) for i in words])"
   ]
  },
  {
   "cell_type": "code",
   "execution_count": 27,
   "metadata": {},
   "outputs": [
    {
     "name": "stdout",
     "output_type": "stream",
     "text": [
      "{'H': 1, 'He': 2, 'Li': 3, 'Be': 4, 'B': 5, 'C': 6, 'N': 7, 'O': 8, 'F': 9, 'Ne': 10, 'Na': 11, 'Mi': 12, 'Al': 13, 'Si': 14, 'P': 15, 'S': 16, 'Cl': 17, 'Ar': 18, 'K': 19, 'Ca': 20}\n"
     ]
    }
   ],
   "source": [
    "# 04. 元素記号\n",
    "s = \"Hi He Lied Because Boron Could Not Oxidize Fluorine. New Nations Might Also Sign Peace Security Clause. Arthur King Can.\"\n",
    "ans = {}\n",
    "for ind, word in enumerate(s.split()):\n",
    "    if ind+1 in [1, 5, 6, 7, 8, 9, 15, 16, 19]:\n",
    "        ans[word[0]] = ind+1\n",
    "    else:\n",
    "        ans[word[:2]] = ind + 1\n",
    "print(ans)"
   ]
  },
  {
   "cell_type": "code",
   "execution_count": 28,
   "metadata": {},
   "outputs": [],
   "source": [
    "# 05. n-gram\n",
    "def make_n_gram(seq, n):\n",
    "    return [seq[i:i+n] for i in range(len(seq) - n + 1)]"
   ]
  },
  {
   "cell_type": "code",
   "execution_count": 33,
   "metadata": {},
   "outputs": [
    {
     "name": "stdout",
     "output_type": "stream",
     "text": [
      "単語bi-gram:\n",
      "[['I', 'am'], ['am', 'an'], ['an', 'NLPer']]\n",
      "文字bi-gram:\n",
      "['I ', ' a', 'am', 'm ', ' a', 'an', 'n ', ' N', 'NL', 'LP', 'Pe', 'er']\n"
     ]
    }
   ],
   "source": [
    "s = \"I am an NLPer\"\n",
    "print(\"単語bi-gram:\")\n",
    "print(make_n_gram(s.split(), 2))\n",
    "\n",
    "print(\"文字bi-gram:\")\n",
    "print(make_n_gram(s, 2))"
   ]
  },
  {
   "cell_type": "code",
   "execution_count": 46,
   "metadata": {},
   "outputs": [
    {
     "name": "stdout",
     "output_type": "stream",
     "text": [
      "和集合: {'di', 'gr', 'ph', 'is', 'ag', 'ad', 'se', 'ap', 'ar', 'ra', 'pa'}\n",
      "積集合: {'ar', 'ap', 'ra', 'pa'}\n",
      "差集合: {'di', 'ad', 'is', 'se'}\n",
      "True\n",
      "False\n"
     ]
    }
   ],
   "source": [
    "# 06. 集合\n",
    "s1 = \"paraparaparadise\"\n",
    "s2 = \"paragraph\"\n",
    "\n",
    "x = set(make_n_gram(s1, 2))\n",
    "y = set(make_n_gram(s2, 2))\n",
    "\n",
    "print(\"和集合:\", x|y)\n",
    "print(\"積集合:\", x&y)\n",
    "print(\"差集合:\", x-y)\n",
    "print(\"se\" in x)\n",
    "print(\"se\" in y)"
   ]
  },
  {
   "cell_type": "code",
   "execution_count": 48,
   "metadata": {},
   "outputs": [
    {
     "name": "stdout",
     "output_type": "stream",
     "text": [
      "12時の気温は22.4\n"
     ]
    }
   ],
   "source": [
    "#07. テンプレートによる文生成\n",
    "def func(x, y, z):\n",
    "    return str(x)+\"時の\"+str(y)+\"は\"+str(z)\n",
    "\n",
    "print(func(12, \"気温\", 22.4))"
   ]
  },
  {
   "cell_type": "code",
   "execution_count": 67,
   "metadata": {},
   "outputs": [
    {
     "name": "stdout",
     "output_type": "stream",
     "text": [
      "I zn zm NLPvi\n",
      "I am an NLPer\n"
     ]
    }
   ],
   "source": [
    "#08. 暗号文\n",
    "\n",
    "def cipher(text):\n",
    "    return \"\".join(list(map(lambda x:chr(219-ord(x)) if x.islower() else x, text)))\n",
    "\n",
    "c = cipher(\"I am an NLPer\")\n",
    "print(c)\n",
    "print(cipher(c))"
   ]
  },
  {
   "cell_type": "code",
   "execution_count": 89,
   "metadata": {},
   "outputs": [
    {
     "name": "stdout",
     "output_type": "stream",
     "text": [
      "I c’ondult bieevle that I cuold alalctuy udnarentsd what I was ridaeng : the pnahmoeenl power of the hamun mind .\n"
     ]
    }
   ],
   "source": [
    "# 09. Typoglycemia\n",
    "import random\n",
    "\n",
    "text = \"I couldn’t believe that I could actually understand what I was reading : the phenomenal power of the human mind .\"\n",
    "\n",
    "def typoglycemia(text):\n",
    "    out = []\n",
    "\n",
    "    for word in text.split():\n",
    "        if len(word) <= 4:\n",
    "            out.append(word)\n",
    "        else:\n",
    "            word = word[0] + \"\".join(random.sample(list(word[1:-1]), len(word[1:-1]))) + word[-1]\n",
    "            out.append(word)\n",
    "\n",
    "    return \" \".join(out)\n",
    "\n",
    "print(typoglycemia(text))"
   ]
  }
 ],
 "metadata": {
  "kernelspec": {
   "display_name": "Python 3",
   "language": "python",
   "name": "python3"
  },
  "language_info": {
   "codemirror_mode": {
    "name": "ipython",
    "version": 3
   },
   "file_extension": ".py",
   "mimetype": "text/x-python",
   "name": "python",
   "nbconvert_exporter": "python",
   "pygments_lexer": "ipython3",
   "version": "3.6.10"
  }
 },
 "nbformat": 4,
 "nbformat_minor": 2
}
